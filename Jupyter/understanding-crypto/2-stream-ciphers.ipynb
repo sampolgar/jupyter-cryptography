{
 "cells": [
  {
   "attachments": {},
   "cell_type": "markdown",
   "metadata": {},
   "source": [
    "### 2.1\n",
    "1. Develop the $Enc$ and $Dec$ $Fn$ for a stream cipher  \n",
    "Stream cipher uses letters instead of bits, A - Z when A = 0 and Z = 25\n",
    "2. Decrypt `bsaspp` `kkuosp` using key `rsidpy` `dkawoa`"
   ]
  },
  {
   "attachments": {},
   "cell_type": "markdown",
   "metadata": {},
   "source": [
    "$Enc$ = $Yi$ = $Xi$ + $Si mod26$  \n",
    "$Dec$ = $Xi$ = $Yi$ + $Si mod2$"
   ]
  },
  {
   "cell_type": "code",
   "execution_count": 21,
   "metadata": {},
   "outputs": [
    {
     "name": "stdout",
     "output_type": "stream",
     "text": [
      "kasparhausep\n"
     ]
    }
   ],
   "source": [
    "alphabet = [\"a\",\"b\",\"c\",\"d\",\"e\",\"f\",\"g\",\"h\",\"i\",\"j\",\"k\",\"l\",\"m\",\"n\",\"o\",\"p\",\"q\",\"r\",\"s\",\"t\",\"u\",\"v\",\"w\",\"x\",\"y\",\"z\"]\n",
    "cipher = \"bsasppkkuosp\"\n",
    "key = \"rsidpydkawoa\"\n",
    "decrypted = \"\"\n",
    "\n",
    "def get_alphabet_number(alphabet, search_letter): \n",
    "    try:\n",
    "        return alphabet.index(search_letter)\n",
    "    except IndexError:\n",
    "        print('no match')\n",
    "        'no match'\n",
    "\n",
    "for i in range(len(cipher)): \n",
    "    cipher_i = cipher[i]\n",
    "    cipher_pos = get_alphabet_number(alphabet, cipher_i)\n",
    "    key_i = key[i]\n",
    "    key_pos = get_alphabet_number(alphabet, key_i)\n",
    "    decrypted_char = alphabet[cipher_pos - key_pos]\n",
    "    decrypted += decrypted_char\n",
    "print(decrypted)\n",
    "    "
   ]
  },
  {
   "attachments": {},
   "cell_type": "markdown",
   "metadata": {},
   "source": [
    "### 2.2\n",
    "Assume we store a one-time key on a CD-ROM with a capacity of 1 Gbyte. Discuss the real-life implications of a One-Time-Pad (OTP) system. Address issues such as life cycle of the key, storage of the key during the life cycle/after the life cycle, key distribution, generation of the key, etc"
   ]
  },
  {
   "attachments": {},
   "cell_type": "markdown",
   "metadata": {},
   "source": [
    "implications of OTP. The key:   \n",
    "1. must be as long as the message\n",
    "2. must be random\n",
    "3. must be kept secret\n",
    "4. must not be used twice\n",
    "5. must never be public (it will decrypt previously encrypted data)"
   ]
  },
  {
   "attachments": {},
   "cell_type": "markdown",
   "metadata": {},
   "source": [
    "### 2.3\n",
    "Assume an OTP-like encryption with a short key of 128 bit. This key is then being used periodically to encrypt large volumes of data. Describe how an attack works that breaks this scheme.  \n",
    "1. guess a word that could be in the message\n",
    "2. xor the cipher text with an xor of the guessed word\n",
    "3. try to find the cipher text (if step2 produces valid output, it might be related to the key)"
   ]
  },
  {
   "cell_type": "code",
   "execution_count": 64,
   "metadata": {},
   "outputs": [
    {
     "name": "stdout",
     "output_type": "stream",
     "text": [
      "hex guessed word = 746865 -- x1 = 191116551f1102530c10520a1a08591c1350111a16540a00161752061d1d11160703451b1d45171a00541a1601191445101606020716114d100755191652000a43010c191d151655110b1653110b174516080a0755110b16530c17\n"
     ]
    }
   ],
   "source": [
    "message_1 = \"the otp is one of the best ciphers in the world because it is so simple and the best and it\"\n",
    "k =         \"mysupersecretmysuperstheecretmysupersecretmysupersecretmysupersecretmysupersecretmysupersec\"\n",
    "\n",
    "# encode m1 and key to hex\n",
    "m1_hex = message_1.encode('utf-8').hex()\n",
    "k_hex = k.encode('utf-8').strip().hex()\n",
    "\n",
    "# Assume attacker knows c1\n",
    "c1_hex = hex(int(m1_hex, 16) ^ int(k_hex, 16))[2:]\n",
    "\n",
    "# choose a word, the is the most common word in english\n",
    "guessed_word = \"the\"\n",
    "guessed_word_hex = guessed_word.encode('utf-8').hex()\n",
    "print(f'hex guessed word = {guessed_word_hex} -- x1 = {c1_hex}')\n"
   ]
  },
  {
   "cell_type": "code",
   "execution_count": 72,
   "metadata": {},
   "outputs": [
    {
     "name": "stdout",
     "output_type": "stream",
     "text": [
      "mys\n",
      "e~0\n",
      "4\n",
      "b=z\n",
      "!wt\n",
      "kyg\n",
      "ej6\n",
      "dMU\n",
      "v;i\n",
      "'du\n",
      "xx7\n",
      "d:o\n",
      "&b\n",
      "~rm\n",
      "n`<\n"
     ]
    }
   ],
   "source": [
    "c1 =   \"191116551f1102530c10520a1a08591c1350111a16540a00161752061d1d11160703451b1d45171a00541a1601191445101606020716114d100755191652000a43010c191d151655110b1653110b174516080a0755110b16530c17\"\n",
    "hex_guessed_word = \"746865\"\n",
    "\n",
    "# brute force the key, by xor'ing the guessed word with the xor of c1 and c2. e.g. \n",
    "for i in range(len(c1_xor_c2)):\n",
    "    left = i\n",
    "    right = i + 6\n",
    "    # print(f'{left} {right}')\n",
    "    if(right < len(c1)-6):\n",
    "        hex_cipher_str = c1[left:right]\n",
    "        # print(f'{hex_cipher_str} {hex_guessed_word}')\n",
    "        xor_cipher_str = hex(int(hex_cipher_str, 16) ^ int(hex_guessed_word, 16))[2:]\n",
    "        try: \n",
    "            decoded = bytes.fromhex(xor_cipher_str).decode('utf-8')\n",
    "            # print(f'{xor_cipher_str}')\n",
    "            print(f'{decoded}')\n",
    "        except UnicodeDecodeError:\n",
    "            pass\n",
    "\n",
    "# output of the cipher xor with the guessed word\n"
   ]
  },
  {
   "attachments": {},
   "cell_type": "markdown",
   "metadata": {},
   "source": [
    "### 2.4\n",
    "At first glance it seems as though an exhaustive key search is possible against an OTP system. Given is a short message, let’s say 5 ASCII characters represented by 40 bit, which was encrypted using a 40-bit OTP. Explain exactly why an exhaus- tive key search will not succeed even though sufficient computational resources are available. This is a paradox since we know that the OTP is unconditionally secure. That is, explain why a brute-force attack does not work.\n",
    "Note: You have to resolve the paradox! That means answers such as “The OTP is unconditionally secure and therefore a brute-force attack does not work” are not valid."
   ]
  },
  {
   "attachments": {},
   "cell_type": "markdown",
   "metadata": {},
   "source": [
    "1. hello in ascii: h: 01101000 e: 01100101 l: 01001100 l: 01001100 o: 01001111 \n",
    "  0110100001100101010011000100110001001111\n",
    "2. random key: 1001011011010110100101110001101010011001\n",
    "3. cipher text = 1111111010110011110110110101011011010110\n",
    "- each bit in the cipher text tells us nothing about the message\n",
    "- adversaries could XOR the cipher text with any arrangement of random keys and could find legigble words but whether they are the message or not is unknown\n",
    "e.g. \n",
    "- ascii h is 01101000\n",
    "- if key is  00011010\n",
    "- adversary sees ascii r 01110010 but doesn't know the key so can't get back to h"
   ]
  },
  {
   "cell_type": "markdown",
   "metadata": {},
   "source": []
  }
 ],
 "metadata": {
  "kernelspec": {
   "display_name": "Python 3",
   "language": "python",
   "name": "python3"
  },
  "language_info": {
   "codemirror_mode": {
    "name": "ipython",
    "version": 3
   },
   "file_extension": ".py",
   "mimetype": "text/x-python",
   "name": "python",
   "nbconvert_exporter": "python",
   "pygments_lexer": "ipython3",
   "version": "3.11.0"
  },
  "orig_nbformat": 4
 },
 "nbformat": 4,
 "nbformat_minor": 2
}
