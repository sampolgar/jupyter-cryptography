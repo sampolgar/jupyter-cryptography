{
 "cells": [
  {
   "attachments": {},
   "cell_type": "markdown",
   "id": "adaec9ab",
   "metadata": {},
   "source": [
    "# Christof Paar - Understanding Cryptography"
   ]
  },
  {
   "attachments": {},
   "cell_type": "markdown",
   "id": "d2e4a81d",
   "metadata": {},
   "source": [
    "Decrypt the ciphertext with the help of the relative letter frequency of the English"
   ]
  },
  {
   "cell_type": "code",
   "execution_count": 13,
   "id": "bf256a87",
   "metadata": {},
   "outputs": [
    {
     "name": "stdout",
     "output_type": "stream",
     "text": [
      "e: 0.1270\n",
      "t: 0.0906\n",
      "a: 0.0817\n",
      "o: 0.0751\n",
      "i: 0.0697\n",
      "n: 0.0675\n",
      "s: 0.0633\n",
      "h: 0.0609\n",
      "r: 0.0599\n",
      "d: 0.0525\n",
      "l: 0.0403\n",
      "c: 0.0278\n",
      "u: 0.0276\n",
      "m: 0.0241\n",
      "w: 0.0236\n",
      "f: 0.0223\n",
      "g: 0.0202\n",
      "y: 0.0197\n",
      "b: 0.015\n",
      "v: 0.0098\n",
      "k: 0.0077\n",
      "j: 0.0015\n",
      "x: 0.0015\n",
      "q: 0.0010\n",
      "z: 0.0007\n"
     ]
    }
   ],
   "source": [
    "# Letter frequency in English\n",
    "dictionary = {\n",
    "    \"a\": \"0.0817\",\n",
    "    \"b\": \"0.015\",\n",
    "    \"c\": \"0.0278\",\n",
    "    \"d\": \"0.0525\",\n",
    "    \"e\": \"0.1270\",\n",
    "    \"f\": \"0.0223\",\n",
    "    \"g\": \"0.0202\",\n",
    "    \"h\": \"0.0609\",\n",
    "    \"i\": \"0.0697\",\n",
    "    \"j\": \"0.0015\",\n",
    "    \"k\": \"0.0077\",\n",
    "    \"l\": \"0.0403\",\n",
    "    \"m\": \"0.0241\",\n",
    "    \"n\": \"0.0675\",\n",
    "    \"o\": \"0.0751\",\n",
    "    \"q\": \"0.0010\",\n",
    "    \"r\": \"0.0599\",\n",
    "    \"s\": \"0.0633\",\n",
    "    \"t\": \"0.0906\",\n",
    "    \"u\": \"0.0276\",\n",
    "    \"v\": \"0.0098\",\n",
    "    \"w\": \"0.0236\",\n",
    "    \"x\": \"0.0015\",\n",
    "    \"y\": \"0.0197\",\n",
    "    \"z\": \"0.0007\"\n",
    "}\n",
    "\n",
    "sorted_dictionary = sorted(dictionary.items(), key=lambda x: x[1], reverse=True)\n",
    "for k, v in sorted_dictionary:\n",
    "    print(f\"{k}: {v}\")"
   ]
  },
  {
   "cell_type": "code",
   "execution_count": 14,
   "id": "b2236c71",
   "metadata": {},
   "outputs": [
    {
     "name": "stdout",
     "output_type": "stream",
     "text": [
      " : 127\n",
      "r: 84\n",
      "b: 68\n",
      "m: 62\n",
      "k: 49\n",
      "j: 48\n",
      "w: 47\n",
      "i: 41\n",
      "p: 30\n",
      "u: 24\n",
      "d: 23\n",
      "h: 23\n",
      "v: 22\n",
      "x: 20\n",
      "y: 19\n",
      "n: 17\n",
      "s: 17\n",
      "t: 13\n",
      "l: 8\n",
      "q: 7\n",
      "o: 7\n",
      "e: 5\n",
      "a: 5\n",
      "c: 5\n",
      "f: 1\n",
      "g: 1\n"
     ]
    }
   ],
   "source": [
    "string = \"lrvmnir bpr sumvbwvr jx bpr lmiwv yjeryrkbi jx qmbm wibpr xjvni mkd ymibrut jx irhx wi bpr riirkvr jx ymbinlmtmipw utn qmumbr dj w ipmhh but bj rhnvwdmbr bpryjeryrkbi jx bpr qmbm mvvjudwko bj yt wkbrusurbmbwjk lmird jk xjubt trmui jx ibndt  wb wi kjb mk rmit bmiq bj rashmwk rmvp yjeryrkb mkd wbiiwokwxwvmkvr mkd ijyr ynib urymwk nkrashmwkrd bj ower mvjyshrbr rashmkmbwjk jkr cjnhd pmer bj lr fnmhwxwrd mkdwkiswurd bj invp mk rabrkb bpmb pr vjnhd urmvp bpr ibmbrjx rkhwopbrkrd ywkd vmsmlhr jx urvjokwgwko ijnkdhriiijnkd mkd ipmsrhrii ipmsr w dj kjb drry ytirhx bpr xwkmhmnbpjuwbt lnb yt rasruwrkvr cwbp qmbm pmi hrxb kj djnlbbpmb bpr xjhhjcwko wi bpr sujsru msshwvmbwjk mkdwkbrusurbmbwjk w jxxru yt bprjuwri wk bpr pjsr bpmb bprriirkvr jx jqwkmcmk qmumbr cwhh urymwk wkbmvb\"\n",
    "char_counts = {}\n",
    "\n",
    "for char in string:\n",
    "    if char in char_counts:\n",
    "        char_counts[char] += 1\n",
    "    else:\n",
    "        char_counts[char] = 1\n",
    "\n",
    "sorted_char_counts = sorted(char_counts.items(), key=lambda x: x[1], reverse=True)\n",
    "\n",
    "for char, count in sorted_char_counts:\n",
    "    print(f\"{char}: {count}\")"
   ]
  },
  {
   "cell_type": "code",
   "execution_count": 38,
   "id": "8b901727",
   "metadata": {},
   "outputs": [
    {
     "name": "stdout",
     "output_type": "stream",
     "text": [
      "because the practice of the basic movements of kata isthe focus and mastery of self is the essence of matsubayashi ryu karate do i shall try to elucidate themovements of the kata according to my interpretation based on forty years of study  it is not an easy task to explain each movement and itssignificance and some must remain unexplained to give acomplete explanation one could have to be qualified andinspired to such an extent that he could reach the stateof enlightened mind capable of recognizing soundlesssound and shapeless shape i do not deem myself the finalauthority but my experience cith kata has left no doubtthat the follocing is the proper application andinterpretation i offer my theories in the hope that theessence of okinacan karate cill remain intact\n"
     ]
    }
   ],
   "source": [
    "key = {\n",
    "\"r\":\"e\",\n",
    "\"b\":\"t\",\n",
    "\"m\":\"a\",\n",
    "\"k\":\"n\",\n",
    "\"j\":\"o\",\n",
    "\"w\":\"i\",\n",
    "\"i\":\"s\",\n",
    "\"p\":\"h\",\n",
    "\"u\":\"r\",\n",
    "\"d\":\"d\",\n",
    "\"h\":\"l\",\n",
    "\"v\":\"c\",\n",
    "\"x\":\"f\",\n",
    "\"y\":\"m\",\n",
    "\"n\":\"u\",\n",
    "\"s\":\"p\",\n",
    "\"t\":\"y\",\n",
    "\"l\":\"b\",\n",
    "\"q\":\"k\",\n",
    "\"o\":\"g\",\n",
    "\"e\":\"v\",\n",
    "\"a\":\"x\",\n",
    "\"c\":\"c\",\n",
    "\"f\":\"q\",\n",
    "\"g\":\"z\"\n",
    "}\n",
    "\n",
    "string = \"lrvmnir bpr sumvbwvr jx bpr lmiwv yjeryrkbi jx qmbm wibpr xjvni mkd ymibrut jx irhx wi bpr riirkvr jx ymbinlmtmipw utn qmumbr dj w ipmhh but bj rhnvwdmbr bpryjeryrkbi jx bpr qmbm mvvjudwko bj yt wkbrusurbmbwjk lmird jk xjubt trmui jx ibndt  wb wi kjb mk rmit bmiq bj rashmwk rmvp yjeryrkb mkd wbiiwokwxwvmkvr mkd ijyr ynib urymwk nkrashmwkrd bj ower mvjyshrbr rashmkmbwjk jkr cjnhd pmer bj lr fnmhwxwrd mkdwkiswurd bj invp mk rabrkb bpmb pr vjnhd urmvp bpr ibmbrjx rkhwopbrkrd ywkd vmsmlhr jx urvjokwgwko ijnkdhriiijnkd mkd ipmsrhrii ipmsr w dj kjb drry ytirhx bpr xwkmhmnbpjuwbt lnb yt rasruwrkvr cwbp qmbm pmi hrxb kj djnlbbpmb bpr xjhhjcwko wi bpr sujsru msshwvmbwjk mkdwkbrusurbmbwjk w jxxru yt bprjuwri wk bpr pjsr bpmb bprriirkvr jx jqwkmcmk qmumbr cwhh urymwk wkbmvb\"\n",
    "swapped_string = \"\"\n",
    "for char in string:\n",
    "    if char in key:\n",
    "        substitute = key[char]\n",
    "        swapped_string += substitute\n",
    "    else:\n",
    "        swapped_string += char\n",
    "print(swapped_string)"
   ]
  },
  {
   "attachments": {},
   "cell_type": "markdown",
   "id": "6a31d0f7",
   "metadata": {},
   "source": [
    "# Attack the ciphertext with a letter frequency count"
   ]
  },
  {
   "cell_type": "code",
   "execution_count": 34,
   "id": "8ce498da",
   "metadata": {},
   "outputs": [
    {
     "name": "stdout",
     "output_type": "stream",
     "text": [
      "t: 10\n",
      "i: 9\n",
      "x: 7\n",
      "l: 5\n",
      "p: 5\n",
      "a: 5\n",
      "g: 5\n",
      "h: 4\n",
      "w: 4\n",
      "d: 3\n",
      "j: 2\n",
      "c: 2\n",
      "u: 1\n",
      "r: 1\n",
      "k: 1\n",
      "v: 1\n",
      "q: 1\n",
      "s: 1\n"
     ]
    }
   ],
   "source": [
    "string = \"xultpaajcxitltlxaarpjhtiwtgxktghidhipxciwtvgtpilpitghlxiwiwtxgqadds\"\n",
    "dictionary = {}\n",
    "\n",
    "for char in string:\n",
    "    if char in dictionary:\n",
    "        dictionary[char] += 1\n",
    "    else:\n",
    "        dictionary[char] = 1\n",
    "\n",
    "sorted_dictionary = sorted(dictionary.items(), key=lambda x: x[1], reverse=True)\n",
    "for k, v in sorted_dictionary:\n",
    "    print(f\"{k}: {v}\")"
   ]
  },
  {
   "cell_type": "code",
   "execution_count": 36,
   "id": "eae044bd",
   "metadata": {},
   "outputs": [
    {
     "name": "stdout",
     "output_type": "stream",
     "text": [
      "xultpaajcxitltlxaarpjhtiwtgxktghidhipxciwtvgtpilpitghlxiwiwtxgqadds\n",
      "yvmuqbbkdyjumumybbsqkiujxuhyluhijeijqydjxuwhuqjmqjuhimyjxjxuyhrbeet\n",
      "zwnvrcclezkvnvnzcctrljvkyvizmvijkfjkrzekyvxivrknrkvijnzkykyvziscffu\n",
      "axowsddmfalwowoaddusmkwlzwjanwjklgklsaflzwyjwsloslwjkoalzlzwajtdggv\n",
      "bypxteengbmxpxpbeevtnlxmaxkboxklmhlmtbgmaxzkxtmptmxklpbmamaxbkuehhw\n",
      "czqyuffohcnyqyqcffwuomynbylcpylmnimnuchnbyalyunqunylmqcnbnbyclvfiix\n",
      "darzvggpidozrzrdggxvpnzoczmdqzmnojnovdioczbmzvorvozmnrdococzdmwgjjy\n",
      "ebsawhhqjepasasehhywqoapdaneranopkopwejpdacnawpswpanosepdpdaenxhkkz\n",
      "fctbxiirkfqbtbtfiizxrpbqebofsbopqlpqxfkqebdobxqtxqboptfqeqebfoyilla\n",
      "gducyjjslgrcucugjjaysqcrfcpgtcpqrmqryglrfcepcyruyrcpqugrfrfcgpzjmmb\n",
      "hevdzkktmhsdvdvhkkbztrdsgdqhudqrsnrszhmsgdfqdzsvzsdqrvhsgsgdhqaknnc\n",
      "ifweallunitewewillcausetheriverstostainthegreatwaterswiththeirblood\n",
      "jgxfbmmvojufxfxjmmdbvtfuifsjwfstuptubjouifhsfbuxbufstxjuiuifjscmppe\n",
      "khygcnnwpkvgygyknnecwugvjgtkxgtuvquvckpvjgitgcvycvgtuykvjvjgktdnqqf\n",
      "lizhdooxqlwhzhzloofdxvhwkhulyhuvwrvwdlqwkhjuhdwzdwhuvzlwkwkhlueorrg\n",
      "mjaieppyrmxiaiamppgeywixlivmzivwxswxemrxlikviexaexivwamxlxlimvfpssh\n",
      "nkbjfqqzsnyjbjbnqqhfzxjymjwnajwxytxyfnsymjlwjfybfyjwxbnymymjnwgqtti\n",
      "olckgrratozkckcorrigaykznkxobkxyzuyzgotznkmxkgzcgzkxycoznznkoxhruuj\n",
      "pmdlhssbupaldldpssjhbzlaolypclyzavzahpuaolnylhadhalyzdpaoaolpyisvvk\n",
      "qnemittcvqbmemeqttkicambpmzqdmzabwabiqvbpmozmibeibmzaeqbpbpmqzjtwwl\n",
      "rofnjuudwrcnfnfruuljdbncqnarenabcxbcjrwcqnpanjcfjcnabfrcqcqnrakuxxm\n",
      "spgokvvexsdogogsvvmkecodrobsfobcdycdksxdroqbokdgkdobcgsdrdrosblvyyn\n",
      "tqhplwwfytephphtwwnlfdpespctgpcdezdeltyesprcplehlepcdhtesesptcmwzzo\n",
      "uriqmxxgzufqiqiuxxomgeqftqduhqdefaefmuzftqsdqmfimfqdeiuftftqudnxaap\n",
      "vsjrnyyhavgrjrjvyypnhfrgurevirefgbfgnvagurterngjngrefjvgugurveoybbq\n",
      "wtksozzibwhskskwzzqoigshvsfwjsfghcghowbhvsufsohkohsfgkwhvhvswfpzccr\n"
     ]
    }
   ],
   "source": [
    "def char_position(letter):\n",
    "    return ord(letter) - 97\n",
    "\n",
    "def pos_to_char(pos):\n",
    "    return chr(pos + 97)\n",
    "\n",
    "string = \"xultpaajcxitltlxaarpjhtiwtgxktghidhipxciwtvgtpilpitghlxiwiwtxgqadds\"\n",
    "\n",
    "for x in range(26):\n",
    "    new_string = \"\"\n",
    "    for char in string:\n",
    "        this_char_position = char_position(char) + x\n",
    "        # print(this_char_position)\n",
    "        if this_char_position > 25: \n",
    "            new_char_position = this_char_position % 26\n",
    "            new_char = pos_to_char(new_char_position)\n",
    "            new_string += new_char\n",
    "        else: \n",
    "            new_char = pos_to_char(this_char_position)\n",
    "            new_string += new_char\n",
    "        \n",
    "    print(new_string)\n",
    "\n",
    "    # answer\n",
    "    # ifweallunitewewillcausetheriverstostainthegreatwaterswiththeirblood"
   ]
  },
  {
   "attachments": {},
   "cell_type": "markdown",
   "id": "fa12eaba",
   "metadata": {},
   "source": [
    "exhaustive key search attack: long term security of AES key length 128-bit\n",
    "Budget of $1 million\n",
    "1 ASIC costs $50 + $50 for electricity (doesn't specify time)\n",
    "1 ASIC checks 5 * 10^8 keys per second\n",
    "- How many can run in parallel? \n",
    "- - 10,000 ASIC searching in parallel\n",
    "- How many keys per second total\n",
    "- - 5*10^12 keys per second\n",
    "- How many years to check all keys?\n",
    "- - AES = 3.4*10^38 === 6.8e+25 years\n",
    "- Relate this time to the age of the Universe, which is about 10^10 years\n",
    "- - 6.8e+25 / 1e+10 = 6.8e+15"
   ]
  },
  {
   "cell_type": "code",
   "execution_count": 43,
   "id": "65c67e9b",
   "metadata": {},
   "outputs": [
    {
     "name": "stdout",
     "output_type": "stream",
     "text": [
      "6.8e+25\n"
     ]
    }
   ],
   "source": [
    "print((3.4*10.0**38.0) / (5.0*10.0**12.0))"
   ]
  },
  {
   "attachments": {},
   "cell_type": "markdown",
   "id": "41e5b54e",
   "metadata": {},
   "source": [
    "Crack AES within 24hours assuming Moore's law = 2 x key check every 18 months\n"
   ]
  },
  {
   "cell_type": "code",
   "execution_count": 47,
   "id": "edafd1eb",
   "metadata": {},
   "outputs": [
    {
     "name": "stdout",
     "output_type": "stream",
     "text": [
      "18000000000000000\n",
      "9.444444444444444e+21\n"
     ]
    }
   ],
   "source": [
    "# no. keys currently checked per 24 hrs\n",
    "print((5*10**12) * 3600)\n",
    "# 18000000000000000\n",
    "# 1.8*10^16\n",
    "\n",
    "# keys needing to be checked per 24 hrs\n",
    "# 3.4*10^38\n",
    "\n",
    "print(((3.4*10**38) / ((5*10**12) * 3600))/2)\n",
    "\n"
   ]
  },
  {
   "attachments": {},
   "cell_type": "markdown",
   "id": "215a0951",
   "metadata": {},
   "source": [
    "relation between passwords and key size\n",
    "- password has 8 letters encoded by ascii (7 bits per character), 128 possible characters\n",
    "What is the size of the key space which can be constructed by such passwords?\n",
    "- - 128^8 = 2^56\n",
    "- key length in bits\n",
    "- - 8 * 7 = 56 key length in bits\n",
    "- 2^56 possible keys, 56 bits each in length\n",
    "- if password is only letters\n",
    "- - keys = 26^8 = 2^44\n",
    "- - key length in bits = "
   ]
  },
  {
   "cell_type": "code",
   "execution_count": null,
   "id": "9aea92d3",
   "metadata": {},
   "outputs": [],
   "source": [
    "A: 1000001.\n",
    "B: 1000010.\n",
    "C: 1000011.\n",
    "D: 1000100.\n",
    "E: 1000101.\n",
    "F: 1000110.\n",
    "G: 1000111.\n",
    "H: 1001000."
   ]
  }
 ],
 "metadata": {
  "kernelspec": {
   "display_name": "Python 3 (ipykernel)",
   "language": "python",
   "name": "python3"
  },
  "language_info": {
   "codemirror_mode": {
    "name": "ipython",
    "version": 3
   },
   "file_extension": ".py",
   "mimetype": "text/x-python",
   "name": "python",
   "nbconvert_exporter": "python",
   "pygments_lexer": "ipython3",
   "version": "3.11.0"
  }
 },
 "nbformat": 4,
 "nbformat_minor": 5
}
