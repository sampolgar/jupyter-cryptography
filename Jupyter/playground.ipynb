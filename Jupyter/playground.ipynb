{
 "cells": [
  {
   "cell_type": "code",
   "execution_count": 1,
   "id": "0c5b2ab5",
   "metadata": {},
   "outputs": [
    {
     "name": "stdout",
     "output_type": "stream",
     "text": [
      "hello world\n"
     ]
    }
   ],
   "source": [
    "string=\"hello world\"\n",
    "print(string)"
   ]
  },
  {
   "cell_type": "markdown",
   "id": "e26e26c6",
   "metadata": {},
   "source": [
    "# Recurse"
   ]
  },
  {
   "cell_type": "code",
   "execution_count": 3,
   "id": "14aed51b",
   "metadata": {},
   "outputs": [
    {
     "name": "stdout",
     "output_type": "stream",
     "text": [
      "0\n"
     ]
    }
   ],
   "source": [
    "def count_partitions(n, m):\n",
    "    if(n == m):\n",
    "        return 0\n",
    "    elif(m == 0 or n < 0):\n",
    "        return 0\n",
    "    else:\n",
    "        return count_partitions(n-m,m) + count_partitions(n,m-1)\n",
    "\n",
    "print(count_partitions(6,4))"
   ]
  },
  {
   "cell_type": "code",
   "execution_count": 22,
   "id": "53f986ab",
   "metadata": {},
   "outputs": [
    {
     "name": "stdout",
     "output_type": "stream",
     "text": [
      "dlrow olleh\n"
     ]
    }
   ],
   "source": [
    "def reverse_string(string):\n",
    "    if len(string) == 0:\n",
    "        return \"\"\n",
    "    return string[-1] + reverse_string(string[:-1])\n",
    "    \n",
    "print(reverse_string(\"hello world\"))"
   ]
  },
  {
   "cell_type": "code",
   "execution_count": 25,
   "id": "deb3e836",
   "metadata": {},
   "outputs": [
    {
     "name": "stdout",
     "output_type": "stream",
     "text": [
      "hello\n",
      "world\n"
     ]
    }
   ],
   "source": [
    "def print_list(list):\n",
    "    if len(list) == 0:\n",
    "        return\n",
    "    print(list[0])\n",
    "    print_list(list[1:])\n",
    "\n",
    "print_list([\"hello\", \"world\"])"
   ]
  },
  {
   "cell_type": "code",
   "execution_count": 27,
   "id": "6ab60a4c",
   "metadata": {},
   "outputs": [
    {
     "name": "stdout",
     "output_type": "stream",
     "text": [
      "12\n"
     ]
    }
   ],
   "source": [
    "def recurse(n, s):\n",
    "    if n == 0:\n",
    "        print(s)\n",
    "    else:\n",
    "        recurse(n-1, n+s)\n",
    "        \n",
    "recurse(4, 2)"
   ]
  },
  {
   "cell_type": "code",
   "execution_count": 29,
   "id": "1b441800",
   "metadata": {},
   "outputs": [
    {
     "name": "stdout",
     "output_type": "stream",
     "text": [
      "120\n"
     ]
    }
   ],
   "source": [
    "def recursive_factorial(n):\n",
    "    if n == 0:\n",
    "        return 1\n",
    "    else:\n",
    "        return n * recursive_factorial(n-1)\n",
    "\n",
    "print(recursive_factorial(5))"
   ]
  },
  {
   "cell_type": "code",
   "execution_count": 2,
   "id": "d0118732",
   "metadata": {},
   "outputs": [
    {
     "ename": "OverflowError",
     "evalue": "integer division result too large for a float",
     "output_type": "error",
     "traceback": [
      "\u001b[0;31m---------------------------------------------------------------------------\u001b[0m",
      "\u001b[0;31mOverflowError\u001b[0m                             Traceback (most recent call last)",
      "Cell \u001b[0;32mIn[2], line 1\u001b[0m\n\u001b[0;32m----> 1\u001b[0m \u001b[39mprint\u001b[39m((\u001b[39m999999\u001b[39;49m\u001b[39m*\u001b[39;49m\u001b[39m*\u001b[39;49m\u001b[39m89347\u001b[39;49m)\u001b[39m/\u001b[39;49m\u001b[39m3\u001b[39;49m\u001b[39m*\u001b[39;49m\u001b[39m*\u001b[39;49m\u001b[39m999999\u001b[39;49m)\n",
      "\u001b[0;31mOverflowError\u001b[0m: integer division result too large for a float"
     ]
    }
   ],
   "source": [
    "print((999999**89347)/3**999999)"
   ]
  }
 ],
 "metadata": {
  "kernelspec": {
   "display_name": "Python 3 (ipykernel)",
   "language": "python",
   "name": "python3"
  },
  "language_info": {
   "codemirror_mode": {
    "name": "ipython",
    "version": 3
   },
   "file_extension": ".py",
   "mimetype": "text/x-python",
   "name": "python",
   "nbconvert_exporter": "python",
   "pygments_lexer": "ipython3",
   "version": "3.11.0"
  }
 },
 "nbformat": 4,
 "nbformat_minor": 5
}
