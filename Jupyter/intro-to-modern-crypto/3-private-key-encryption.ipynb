{
 "cells": [
  {
   "attachments": {},
   "cell_type": "markdown",
   "metadata": {},
   "source": [
    "3.1 Prove Proposition 3.6\n",
    "Let $ negl_1 $ and $ negl_2 $ be negligible functions. \n",
    "Prove\n",
    "1. The function $ negl_3(n) = negl_1(n) + negl_2(n) $ is negligible.\n",
    "2. For any polynomial $p$, the function $negl_4(n) = p(n)·negl_1(n) $ is negligible.\n"
   ]
  },
  {
   "attachments": {},
   "cell_type": "markdown",
   "metadata": {},
   "source": [
    "Polynomials obey closure principles\n",
    "e.g. $p(n) = p_1(p_2(n))$"
   ]
  },
  {
   "attachments": {},
   "cell_type": "markdown",
   "metadata": {},
   "source": [
    "3.2 Prove that Definition 3.8 cannot be satisfied if $II$ can encrypt arbitrary-\n",
    "length messages and the adversary is not restricted to outputting equal-\n",
    "length messages in experiment $PrivK^eav . AΠ$.\n",
    "\n",
    "Hint: Let q(n) be a polynomial upper-bound on the length of the cipher- text when $II$ is used to encrypt a single bit. Then consider an adversary who outputs m0 ∈ {0, 1} and a uniform m1 ∈ {0, 1}q(n)+2."
   ]
  },
  {
   "attachments": {},
   "cell_type": "markdown",
   "metadata": {},
   "source": []
  }
 ],
 "metadata": {
  "language_info": {
   "name": "python"
  },
  "orig_nbformat": 4
 },
 "nbformat": 4,
 "nbformat_minor": 2
}
