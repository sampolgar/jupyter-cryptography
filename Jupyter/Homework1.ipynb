{
 "cells": [
  {
   "cell_type": "code",
   "execution_count": null,
   "metadata": {},
   "outputs": [],
   "source": [
    "[stack overflow latex](https://stackoverflow.com/questions/13208286/how-to-write-latex-in-ipython-notebook)\n",
    "\n",
    "[Jupyter reference](https://nbviewer.org/github/ipython/ipython/blob/2.x/examples/Notebook/Display%20System.ipynb#LaTeX)\n",
    "\n",
    "[Equations Jupyter Ref](https://jupyter-notebook.readthedocs.io/en/latest/examples/Notebook/Typesetting%20Equations.html)\n",
    "\n",
<<<<<<< HEAD
    "[Good reference](https://blog.deepsim.xyz/equations-symbols-latex-jupyter-notebook/)"
=======
    "[Good reference](https://blog.deepsim.xyz/equations-symbols-latex-jupyter-notebook/)\n",
    "\n",
    "[writing md and latex](https://towardsdatascience.com/write-markdown-latex-in-the-jupyter-notebook-10985edb91fd)"
>>>>>>> 4f8ee6d (update crypto hw)
   ]
  }
 ],
 "metadata": {
  "language_info": {
   "name": "python"
  },
  "orig_nbformat": 4
 },
 "nbformat": 4,
 "nbformat_minor": 2
}
