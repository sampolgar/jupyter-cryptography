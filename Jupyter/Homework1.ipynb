{
 "cells": [
  {
   "cell_type": "code",
   "execution_count": null,
   "metadata": {},
   "outputs": [],
   "source": [
    "[stack overflow latex](https://stackoverflow.com/questions/13208286/how-to-write-latex-in-ipython-notebook)\n",
    "\n",
    "[Jupyter reference](https://nbviewer.org/github/ipython/ipython/blob/2.x/examples/Notebook/Display%20System.ipynb#LaTeX)\n",
    "\n",
    "[Equations Jupyter Ref](https://jupyter-notebook.readthedocs.io/en/latest/examples/Notebook/Typesetting%20Equations.html)\n",
    "\n",
    "[Good reference](https://blog.deepsim.xyz/equations-symbols-latex-jupyter-notebook/)"
   ]
  }
 ],
 "metadata": {
  "language_info": {
   "name": "python"
  },
  "orig_nbformat": 4
 },
 "nbformat": 4,
 "nbformat_minor": 2
}
